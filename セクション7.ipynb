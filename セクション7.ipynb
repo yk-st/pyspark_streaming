{
 "cells": [
  {
   "cell_type": "markdown",
   "metadata": {},
   "source": [
    "# 本セクションの目次\n",
    "1. IoT/Kafka/Spark Streamingの組み合わせ概要説明\n",
    "2. Web画面からのデータ送信\n",
    "3. ウィンドウ処理\n",
    "4. DIKWモデル\n",
    "5. UUIDの付与処理とイベント時間の付与"
   ]
  },
  {
   "cell_type": "markdown",
   "metadata": {},
   "source": [
    "# IoT/Kafka/Spark Streamingを組み合わせてみよう\n",
    "\n",
    "今回は、IoTとしてWebブラウザを利用してユーザのウェブ画面上での操作をトラッキングしてみたいと思います。\n",
    "\n",
    "Web画面には3つの機能があります\n",
    "1. ログイン(/でアクセスするとログインしたということにします)　http://nodejs:3000\n",
    "2. カートに入れる(/cart)　http://nodejs:3000/cart\n",
    "3. 決済する(/done) http://nodejs:3000/done\n",
    "\n",
    "ユーザがこれらのアクションを取ったらkafkaへデータが飛んでくるような仕組みになっています。\n",
    "\n",
    "実際の現場では、これらのデータをもとに分析を行い対策を練っていきます。  \n",
    "ex. カートにまで入るけど決済されないなぁ\n",
    "\n"
   ]
  },
  {
   "cell_type": "code",
   "execution_count": 1,
   "metadata": {},
   "outputs": [],
   "source": [
    "# コンソールで設定したSparkとNoteBookを接続します(動かす前に毎度実行する必要があります)\n",
    "import findspark\n",
    "findspark.init(\"/home/pyspark/spark\")"
   ]
  },
  {
   "cell_type": "code",
   "execution_count": 2,
   "metadata": {},
   "outputs": [
    {
     "name": "stderr",
     "output_type": "stream",
     "text": [
      "Warning: Ignoring non-Spark config property: hive.exec.dynamic.partition.mode\n",
      "Warning: Ignoring non-Spark config property: hive.exec.dynamic.partition\n",
      "WARNING: An illegal reflective access operation has occurred\n",
      "WARNING: Illegal reflective access by org.apache.spark.unsafe.Platform (file:/home/pyspark/spark-3.2.0-bin-hadoop3.2/jars/spark-unsafe_2.12-3.2.0.jar) to constructor java.nio.DirectByteBuffer(long,int)\n",
      "WARNING: Please consider reporting this to the maintainers of org.apache.spark.unsafe.Platform\n",
      "WARNING: Use --illegal-access=warn to enable warnings of further illegal reflective access operations\n",
      "WARNING: All illegal access operations will be denied in a future release\n"
     ]
    },
    {
     "name": "stdout",
     "output_type": "stream",
     "text": [
      ":: loading settings :: url = jar:file:/home/pyspark/spark-3.2.0-bin-hadoop3.2/jars/ivy-2.5.0.jar!/org/apache/ivy/core/settings/ivysettings.xml\n"
     ]
    },
    {
     "name": "stderr",
     "output_type": "stream",
     "text": [
      "Ivy Default Cache set to: /home/pyspark/.ivy2/cache\n",
      "The jars for the packages stored in: /home/pyspark/.ivy2/jars\n",
      "org.apache.spark#spark-streaming_2.13 added as a dependency\n",
      "org.apache.spark#spark-sql-kafka-0-10_2.12 added as a dependency\n",
      "org.apache.spark#spark-avro_2.12 added as a dependency\n",
      ":: resolving dependencies :: org.apache.spark#spark-submit-parent-d5c338c8-21d5-4030-90a9-418a9d6c4783;1.0\n",
      "\tconfs: [default]\n",
      "\tfound org.apache.spark#spark-sql-kafka-0-10_2.12;3.2.0 in central\n",
      "\tfound org.apache.spark#spark-token-provider-kafka-0-10_2.12;3.2.0 in central\n",
      "\tfound org.apache.kafka#kafka-clients;2.8.0 in central\n",
      "\tfound org.lz4#lz4-java;1.7.1 in central\n",
      "\tfound org.xerial.snappy#snappy-java;1.1.8.4 in central\n",
      "\tfound org.slf4j#slf4j-api;1.7.30 in central\n",
      "\tfound org.apache.hadoop#hadoop-client-runtime;3.3.1 in central\n",
      "\tfound org.spark-project.spark#unused;1.0.0 in central\n",
      "\tfound org.apache.hadoop#hadoop-client-api;3.3.1 in central\n",
      "\tfound org.apache.htrace#htrace-core4;4.1.0-incubating in central\n",
      "\tfound commons-logging#commons-logging;1.1.3 in central\n",
      "\tfound com.google.code.findbugs#jsr305;3.0.0 in central\n",
      "\tfound org.apache.commons#commons-pool2;2.6.2 in central\n",
      "\tfound org.apache.spark#spark-avro_2.12;3.2.0 in central\n",
      "\tfound org.tukaani#xz;1.8 in central\n",
      ":: resolution report :: resolve 326ms :: artifacts dl 8ms\n",
      "\t:: modules in use:\n",
      "\tcom.google.code.findbugs#jsr305;3.0.0 from central in [default]\n",
      "\tcommons-logging#commons-logging;1.1.3 from central in [default]\n",
      "\torg.apache.commons#commons-pool2;2.6.2 from central in [default]\n",
      "\torg.apache.hadoop#hadoop-client-api;3.3.1 from central in [default]\n",
      "\torg.apache.hadoop#hadoop-client-runtime;3.3.1 from central in [default]\n",
      "\torg.apache.htrace#htrace-core4;4.1.0-incubating from central in [default]\n",
      "\torg.apache.kafka#kafka-clients;2.8.0 from central in [default]\n",
      "\torg.apache.spark#spark-avro_2.12;3.2.0 from central in [default]\n",
      "\torg.apache.spark#spark-sql-kafka-0-10_2.12;3.2.0 from central in [default]\n",
      "\torg.apache.spark#spark-token-provider-kafka-0-10_2.12;3.2.0 from central in [default]\n",
      "\torg.lz4#lz4-java;1.7.1 from central in [default]\n",
      "\torg.slf4j#slf4j-api;1.7.30 from central in [default]\n",
      "\torg.spark-project.spark#unused;1.0.0 from central in [default]\n",
      "\torg.tukaani#xz;1.8 from central in [default]\n",
      "\torg.xerial.snappy#snappy-java;1.1.8.4 from central in [default]\n",
      "\t---------------------------------------------------------------------\n",
      "\t|                  |            modules            ||   artifacts   |\n",
      "\t|       conf       | number| search|dwnlded|evicted|| number|dwnlded|\n",
      "\t---------------------------------------------------------------------\n",
      "\t|      default     |   15  |   0   |   0   |   0   ||   15  |   0   |\n",
      "\t---------------------------------------------------------------------\n",
      ":: retrieving :: org.apache.spark#spark-submit-parent-d5c338c8-21d5-4030-90a9-418a9d6c4783\n",
      "\tconfs: [default]\n",
      "\t0 artifacts copied, 15 already retrieved (0kB/5ms)\n",
      "21/12/12 02:53:44 WARN NativeCodeLoader: Unable to load native-hadoop library for your platform... using builtin-java classes where applicable\n",
      "Setting default log level to \"WARN\".\n",
      "To adjust logging level use sc.setLogLevel(newLevel). For SparkR, use setLogLevel(newLevel).\n"
     ]
    }
   ],
   "source": [
    "#pysparkに必要なライブラリを読み込む\n",
    "from pyspark import SparkConf\n",
    "from pyspark import SparkContext\n",
    "from pyspark.sql import SparkSession\n",
    "\n",
    "#spark sessionの作成\n",
    "# spark.ui.enabled trueとするとSparkのGUI画面を確認することができます\n",
    "# spark.eventLog.enabled true　とすると　GUIで実行ログを確認することができます\n",
    "# GUIなどの確認は最後のセクションで説明を行います。\n",
    "spark = SparkSession.builder \\\n",
    "    .appName(\"chapter1\") \\\n",
    "    .config(\"hive.exec.dynamic.partition\", \"true\") \\\n",
    "    .config(\"hive.exec.dynamic.partition.mode\", \"nonstrict\") \\\n",
    "    .config(\"spark.sql.session.timeZone\", \"JST\") \\\n",
    "    .config(\"spark.ui.enabled\",\"true\") \\\n",
    "    .config(\"spark.eventLog.enabled\",\"true\") \\\n",
    "    .config(\"spark.jars.packages\", \"org.apache.spark:spark-streaming_2.13:3.2.1,org.apache.spark:spark-sql-kafka-0-10_2.12:3.2.1,org.apache.spark:spark-avro_2.12:3.2.1\") \\\n",
    "    .enableHiveSupport() \\\n",
    "    .getOrCreate()\n",
    "\n",
    "# パッケージを複数渡したい時は「,」で繋いで渡します。\n",
    "# Sparkのバージョンにしっかりと合わせます(今回はSparkのバージョンが3.2.1を使っています。)。"
   ]
  },
  {
   "cell_type": "code",
   "execution_count": 24,
   "metadata": {},
   "outputs": [],
   "source": [
    "# kafkaからデータを読み取る設定を行います。\n",
    "# 今回はpyspark-topic3から読み取ります\n",
    "\n",
    "df = spark \\\n",
    "  .readStream \\\n",
    "  .format(\"kafka\") \\\n",
    "  .option(\"kafka.bootstrap.servers\", \"kafka:9092\") \\\n",
    "  .option(\"subscribe\", \"pyspark-topic3\") \\\n",
    "  .load()"
   ]
  },
  {
   "cell_type": "code",
   "execution_count": 4,
   "metadata": {},
   "outputs": [
    {
     "name": "stderr",
     "output_type": "stream",
     "text": [
      "21/12/12 02:54:16 WARN ResolveWriteToStream: spark.sql.adaptive.enabled is not supported in streaming DataFrames/Datasets and will be disabled.\n"
     ]
    }
   ],
   "source": [
    "# メモリシンク\n",
    "memory_sink = df \\\n",
    "  .selectExpr(\"CAST(key AS STRING)\", \"CAST(value AS STRING)\") \\\n",
    "  .writeStream \\\n",
    "  .format(\"memory\") \\\n",
    "  .queryName(\"web_actions\") \\\n",
    "  .trigger(processingTime=\"5 seconds\") \\\n",
    "  .option(\"checkpointLocation\", \"/tmp/kafka/web_memory/\") \\\n",
    "  .start()"
   ]
  },
  {
   "cell_type": "markdown",
   "metadata": {},
   "source": [
    "-------------データをいくつか送信してみます---------------------"
   ]
  },
  {
   "cell_type": "code",
   "execution_count": 5,
   "metadata": {},
   "outputs": [
    {
     "name": "stdout",
     "output_type": "stream",
     "text": [
      "+----+---------------------------------------------------------------------------------+------------------+----------+-------------+\n",
      "|key |value                                                                            |name              |action    |sendtime     |\n",
      "+----+---------------------------------------------------------------------------------+------------------+----------+-------------+\n",
      "|null|{\"name\": \"yuki_1639277668791\", \"action\": \"login\", \"sendtime\": 1639277668791}     |yuki_1639277668791|login     |1639277668791|\n",
      "|null|{\"name\": \"yuki_1639277668912\", \"action\": \"login\", \"sendtime\": 1639277668912}     |yuki_1639277668912|login     |1639277668912|\n",
      "|null|{\"name\": \"yuki_1639277669059\", \"action\": \"login\", \"sendtime\": 1639277669059}     |yuki_1639277669059|login     |1639277669059|\n",
      "|null|{\"name\": \"yuki_1639277669197\", \"action\": \"login\", \"sendtime\": 1639277669197}     |yuki_1639277669197|login     |1639277669197|\n",
      "|null|{\"name\": \"yuki_1639277669364\", \"action\": \"login\", \"sendtime\": 1639277669364}     |yuki_1639277669364|login     |1639277669364|\n",
      "|null|{\"name\": \"yuki_1639277673065\", \"action\": \"add_cart\", \"sendtime\": 1639277673065}  |yuki_1639277673065|add_cart  |1639277673065|\n",
      "|null|{\"name\": \"yuki_1639277674500\", \"action\": \"add_cart\", \"sendtime\": 1639277674500}  |yuki_1639277674500|add_cart  |1639277674500|\n",
      "|null|{\"name\": \"yuki_1639277674658\", \"action\": \"add_cart\", \"sendtime\": 1639277674658}  |yuki_1639277674658|add_cart  |1639277674658|\n",
      "|null|{\"name\": \"yuki_1639277674820\", \"action\": \"add_cart\", \"sendtime\": 1639277674820}  |yuki_1639277674820|add_cart  |1639277674820|\n",
      "|null|{\"name\": \"yuki_1639277674954\", \"action\": \"add_cart\", \"sendtime\": 1639277674954}  |yuki_1639277674954|add_cart  |1639277674954|\n",
      "|null|{\"name\": \"yuki_1639277675106\", \"action\": \"add_cart\", \"sendtime\": 1639277675106}  |yuki_1639277675106|add_cart  |1639277675106|\n",
      "|null|{\"name\": \"yuki_1639277678644\", \"action\": \"check_cart\", \"sendtime\": 1639277678644}|yuki_1639277678644|check_cart|1639277678644|\n",
      "|null|{\"name\": \"yuki_1639277678721\", \"action\": \"check_cart\", \"sendtime\": 1639277678721}|yuki_1639277678721|check_cart|1639277678721|\n",
      "|null|{\"name\": \"yuki_1639277678882\", \"action\": \"check_cart\", \"sendtime\": 1639277678882}|yuki_1639277678882|check_cart|1639277678882|\n",
      "|null|{\"name\": \"yuki_1639277679077\", \"action\": \"check_cart\", \"sendtime\": 1639277679077}|yuki_1639277679077|check_cart|1639277679077|\n",
      "|null|{\"name\": \"yuki_1639277679190\", \"action\": \"check_cart\", \"sendtime\": 1639277679190}|yuki_1639277679190|check_cart|1639277679190|\n",
      "|null|{\"name\": \"yuki_1639277679335\", \"action\": \"check_cart\", \"sendtime\": 1639277679335}|yuki_1639277679335|check_cart|1639277679335|\n",
      "|null|{\"name\": \"yuki_1639277679509\", \"action\": \"check_cart\", \"sendtime\": 1639277679509}|yuki_1639277679509|check_cart|1639277679509|\n",
      "|null|{\"name\": \"yuki_1639277679650\", \"action\": \"check_cart\", \"sendtime\": 1639277679650}|yuki_1639277679650|check_cart|1639277679650|\n",
      "|null|{\"name\": \"yuki_1639277679826\", \"action\": \"check_cart\", \"sendtime\": 1639277679826}|yuki_1639277679826|check_cart|1639277679826|\n",
      "+----+---------------------------------------------------------------------------------+------------------+----------+-------------+\n",
      "only showing top 20 rows\n",
      "\n"
     ]
    }
   ],
   "source": [
    "# 取得したデータは順次データを取得することができます\n",
    "# データを取得するにはJson_tupleを使ってデータを取り出していきます。\n",
    "spark.sql(\"select * from web_actions LATERAL VIEW json_tuple(value,'name','action','sendtime') user as name,action,sendtime \").show(truncate=False)\n",
    "result_df=spark.sql(\"select * from web_actions LATERAL VIEW json_tuple(value,'name','action','sendtime') user as name, action,sendtime \")"
   ]
  },
  {
   "cell_type": "markdown",
   "metadata": {},
   "source": [
    "# ウィンドウ集計\n",
    "データを一定期間で集計することをウィンドウ集計と呼びます。  \n",
    "ストリーミングの醍醐味の一つとしてのウィンドウ集計を紹介します。  \n",
    "\n",
    "今回は時間単位でのデータ件数の集計を行っていきましょう。\n",
    "よくアプリケーションなどを使っていると、5分間の平均XXXのような値が出てきますが、中身はこれから紹介するようなコードが動いています。\n",
    "\n",
    "Water Mark 10分の図  \n",
    "Windwo 10分  \n",
    "プロセスは5分  \n",
    "http://mogile.web.fc2.com/spark/structured-streaming-programming-guide.html\n",
    "\n",
    "![図1.2 DIKW](images/window.png)"
   ]
  },
  {
   "cell_type": "code",
   "execution_count": 6,
   "metadata": {},
   "outputs": [
    {
     "name": "stderr",
     "output_type": "stream",
     "text": [
      "21/12/12 03:16:54 WARN ResolveWriteToStream: Temporary checkpoint location created which is deleted normally when the query didn't fail: /tmp/temporary-a6f25355-bad2-4fb0-b9bd-b3323db84955. If it's required to delete it under any circumstances, please set spark.sql.streaming.forceDeleteTempCheckpointLocation to true. Important to know deleting temp checkpoint folder is best effort.\n",
      "21/12/12 03:16:54 WARN ResolveWriteToStream: spark.sql.adaptive.enabled is not supported in streaming DataFrames/Datasets and will be disabled.\n"
     ]
    }
   ],
   "source": [
    "from pyspark.sql.functions import window, col, from_json\n",
    "from pyspark.sql.types import *\n",
    "\n",
    "# データはJsonなので、Jsonの定義を行います。\n",
    "schema = StructType([\n",
    "    StructField('name', StringType(), True),\n",
    "    StructField('action', StringType(), True),\n",
    "    StructField('sendtime', StringType(), True),\n",
    "])\n",
    "\n",
    "writer = df \\\n",
    ".select(df.timestamp ,from_json(df.value.cast(\"string\"), schema, {\"mode\" : \"FAILFAST\"}).alias(\"json\")) \\\n",
    ".select(df.timestamp ,\"json.*\") \\\n",
    ".withWatermark(\"timestamp\", \"10 seconds\") \\\n",
    ".groupBy(window(col(\"timestamp\"), \"10 seconds\")).count() \\\n",
    ".writeStream \\\n",
    ".queryName(\"pyevents_per_window\") \\\n",
    ".format(\"memory\") \\\n",
    ".start()\n",
    "\n",
    "# 少し複雑ですが、読み取ったデータをJsonとして取り出して、メモリーシンクを行っています。\n",
    "# json.*は入れ子構造になっているデータを平坦化するときのお決まりです\n",
    "# watermark(データが遅延できる時間)\n",
    "# groupByの部分で時間単位でグループ化し10秒単位での件数を集計しています。"
   ]
  },
  {
   "cell_type": "code",
   "execution_count": 17,
   "metadata": {},
   "outputs": [
    {
     "name": "stdout",
     "output_type": "stream",
     "text": [
      "+------------------------------------------+-----+\n",
      "|window                                    |count|\n",
      "+------------------------------------------+-----+\n",
      "|{2021-12-12 12:16:50, 2021-12-12 12:17:00}|7    |\n",
      "|{2021-12-12 12:17:00, 2021-12-12 12:17:10}|17   |\n",
      "|{2021-12-12 12:17:20, 2021-12-12 12:17:30}|38   |\n",
      "|{2021-12-12 12:17:10, 2021-12-12 12:17:20}|16   |\n",
      "+------------------------------------------+-----+\n",
      "\n"
     ]
    }
   ],
   "source": [
    "# データを簡単に覗いてみましょう\n",
    "spark.sql(\"select * from pyevents_per_window\").show(truncate=False)"
   ]
  },
  {
   "cell_type": "markdown",
   "metadata": {},
   "source": [
    "# DIKWモデル\n",
    "![図1.2 DIKW](images/DIKW.png)\n",
    "DIKWモデルを紹介します\n",
    "\n",
    "DIKWモデルでは、データのステージを「Data」「Infromation」「Knowledge」「Wisdom」として定義しています。\n",
    "\n",
    "- Data(データ)\n",
    "- Information（情報）\n",
    "- Knowledge（知識）\n",
    "- Wisdom（知恵）\n",
    "\n",
    "これらの頭文字をとってDIKWモデルと呼ばれています。\n",
    "\n",
    "ETLをすることはDataを情報や知識に変換することを指します。\n",
    "情報や知識は、データから見つかるルールや関係性のことです。\n",
    "\n",
    "## データエンリッチング\n",
    "必要なデータを付与する作業のことをデータエンリッチングと呼びます。  \n",
    "エンリッチング(豊かにする)という意味で、後続のデータ処理をやりやすくするためにデータに対して情報を付加することです。  \n",
    "組織によって必要な情報は異なると思いますが、大半の組織でやることになるであろう\n",
    "\n",
    "- UUID\n",
    "- プロセス時間の付与\n",
    "\n",
    "について紹介していきたいと思います。"
   ]
  },
  {
   "cell_type": "code",
   "execution_count": 19,
   "metadata": {},
   "outputs": [
    {
     "name": "stdout",
     "output_type": "stream",
     "text": [
      "+---+------------------------------------+\n",
      "|key|uuid                                |\n",
      "+---+------------------------------------+\n",
      "|1  |15561b31-74e5-4d38-b467-0473048f8a8f|\n",
      "+---+------------------------------------+\n",
      "\n"
     ]
    }
   ],
   "source": [
    "import uuid\n",
    "from pyspark.sql.functions import udf\n",
    "from  pyspark.sql.types import StringType\n",
    "uuidUdf= udf(lambda : str(uuid.uuid4()),StringType())\n",
    "df_2=spark.sql(\"select 1 as key\")\n",
    "df_2.withColumn('uuid',uuidUdf())\n",
    "df_2.withColumn('uuid',uuidUdf()).show(truncate=False)"
   ]
  },
  {
   "cell_type": "code",
   "execution_count": 30,
   "metadata": {},
   "outputs": [
    {
     "name": "stderr",
     "output_type": "stream",
     "text": [
      "21/12/12 03:41:13 WARN ResolveWriteToStream: Temporary checkpoint location created which is deleted normally when the query didn't fail: /tmp/temporary-7d68e0c1-f29b-4b78-9ee8-ca379f18d793. If it's required to delete it under any circumstances, please set spark.sql.streaming.forceDeleteTempCheckpointLocation to true. Important to know deleting temp checkpoint folder is best effort.\n",
      "21/12/12 03:41:13 WARN ResolveWriteToStream: spark.sql.adaptive.enabled is not supported in streaming DataFrames/Datasets and will be disabled.\n",
      "21/12/12 03:41:24 WARN KafkaDataConsumer: KafkaDataConsumer is not running in UninterruptibleThread. It may hang when KafkaDataConsumer's methods are interrupted because of KAFKA-1894\n",
      "21/12/12 03:41:24 WARN KafkaDataConsumer: KafkaDataConsumer is not running in UninterruptibleThread. It may hang when KafkaDataConsumer's methods are interrupted because of KAFKA-1894\n"
     ]
    }
   ],
   "source": [
    "# dataframeにuudidを付与してみる\n",
    "memory_sink2 = df \\\n",
    ".select(df.timestamp ,from_json(df.value.cast(\"string\"), schema, {\"mode\" : \"FAILFAST\"}).alias(\"json\")) \\\n",
    ".select(df.timestamp ,\"json.*\").withColumn('uuid',uuidUdf()) \\\n",
    ".writeStream \\\n",
    ".queryName(\"web_actions3\") \\\n",
    ".format(\"memory\") \\\n",
    ".start()"
   ]
  },
  {
   "cell_type": "code",
   "execution_count": 32,
   "metadata": {},
   "outputs": [
    {
     "name": "stderr",
     "output_type": "stream",
     "text": []
    },
    {
     "name": "stdout",
     "output_type": "stream",
     "text": [
      "+-----------------------+------------------+------+-------------+------------------------------------+\n",
      "|timestamp              |name              |action|sendtime     |uuid                                |\n",
      "+-----------------------+------------------+------+-------------+------------------------------------+\n",
      "|2021-12-12 12:41:24.262|yuki_1639280484260|login |1639280484260|388b81b9-cc96-4073-8b4c-72b00ef23e5c|\n",
      "|2021-12-12 12:41:24.432|yuki_1639280484428|login |1639280484428|99d048aa-27b4-4416-b3e2-2c5e55c524aa|\n",
      "|2021-12-12 12:41:24.566|yuki_1639280484561|login |1639280484561|6a67ef2d-4fe9-4016-96b0-b89edb2cc61d|\n",
      "|2021-12-12 12:41:24.722|yuki_1639280484718|login |1639280484718|8abdb6c1-e3f3-458e-ad67-6c33f7878770|\n",
      "|2021-12-12 12:41:24.873|yuki_1639280484871|login |1639280484871|10485dd3-4d32-4b2d-a7e2-ad8bd487402f|\n",
      "|2021-12-12 12:41:25.024|yuki_1639280485020|login |1639280485020|94737ded-64ea-4820-a62f-30c675c33335|\n",
      "|2021-12-12 12:41:25.153|yuki_1639280485148|login |1639280485148|8ab4417e-82c7-4845-87fd-da576f1cf7da|\n",
      "+-----------------------+------------------+------+-------------+------------------------------------+\n",
      "\n"
     ]
    },
    {
     "name": "stderr",
     "output_type": "stream",
     "text": []
    }
   ],
   "source": [
    "#　結果の確認\n",
    "spark.sql(\"select * from web_actions3\").show(truncate=False)"
   ]
  },
  {
   "cell_type": "markdown",
   "metadata": {},
   "source": [
    "# UUIDの付与？\n",
    "ストリーミングにおいては、主キー的な役割を果たします。  \n",
    "大量のレコードを検索して問題のレコードを発見するのは非常に時間がかかる行為です。  \n",
    "\n",
    "そのため、レコードを一意に特定できる値を付与するということは非常に有用です。"
   ]
  },
  {
   "cell_type": "code",
   "execution_count": 33,
   "metadata": {},
   "outputs": [
    {
     "name": "stdout",
     "output_type": "stream",
     "text": [
      "+-----------------------+------------------+------+-------------+------------------------------------+------------------------------+\n",
      "|timestamp              |name              |action|sendtime     |uuid                                |spark_streaming_processed_time|\n",
      "+-----------------------+------------------+------+-------------+------------------------------------+------------------------------+\n",
      "|2021-12-12 12:41:24.262|yuki_1639280484260|login |1639280484260|388b81b9-cc96-4073-8b4c-72b00ef23e5c|2021-12-12 12:43:15.743575    |\n",
      "|2021-12-12 12:41:24.432|yuki_1639280484428|login |1639280484428|99d048aa-27b4-4416-b3e2-2c5e55c524aa|2021-12-12 12:43:15.743575    |\n",
      "|2021-12-12 12:41:24.566|yuki_1639280484561|login |1639280484561|6a67ef2d-4fe9-4016-96b0-b89edb2cc61d|2021-12-12 12:43:15.743575    |\n",
      "|2021-12-12 12:41:24.722|yuki_1639280484718|login |1639280484718|8abdb6c1-e3f3-458e-ad67-6c33f7878770|2021-12-12 12:43:15.743575    |\n",
      "|2021-12-12 12:41:24.873|yuki_1639280484871|login |1639280484871|10485dd3-4d32-4b2d-a7e2-ad8bd487402f|2021-12-12 12:43:15.743575    |\n",
      "|2021-12-12 12:41:25.024|yuki_1639280485020|login |1639280485020|94737ded-64ea-4820-a62f-30c675c33335|2021-12-12 12:43:15.743575    |\n",
      "|2021-12-12 12:41:25.153|yuki_1639280485148|login |1639280485148|8ab4417e-82c7-4845-87fd-da576f1cf7da|2021-12-12 12:43:15.743575    |\n",
      "+-----------------------+------------------+------+-------------+------------------------------------+------------------------------+\n",
      "\n"
     ]
    }
   ],
   "source": [
    "import datetime\n",
    "from pyspark.sql import functions as F\n",
    "spark.sql(\"select * from web_actions3\").withColumn('spark_streaming_processed_time', F.lit(datetime.datetime.now())).show(truncate=False)"
   ]
  },
  {
   "cell_type": "markdown",
   "metadata": {},
   "source": [
    "# いっぱい時間が出てくるけど。。？\n",
    " \n",
    "データパイプラインが長くなってくると、いつどこでどんな処理をされたのか？  \n",
    "というのが分かりづらくなってきます。  \n",
    "\n",
    "どのパイプラインを通ったのか？どこの処理をいつ通ったのか？  \n",
    "都度記録しておくことで、障害時のトラッキングや調査に役立ててることが可能です。\n",
    "\n",
    "例えばsendtimeは送った時間、timestampはkafkaにたどり着いた時間、spark_streaming_processed_timeはSparkが処理した時間です。\n",
    "\n",
    "例えばspark_streaming_processed_timeとtimestampの時間が1時間くらい離れていたらどうでしょうか？  \n",
    "何かしら処理のプロセスに問題があったかもしれませんし、いきなりデータが増えて処理しきれなくなっているのかもしれません。"
   ]
  }
 ],
 "metadata": {
  "interpreter": {
   "hash": "578f5f657c2fb65ecadb997ad60e5cf2da380ecec34305a6dd913dc5b96e257c"
  },
  "kernelspec": {
   "display_name": "Python 3.9.1 64-bit ('3.9.1': pyenv)",
   "language": "python",
   "name": "python3"
  },
  "language_info": {
   "codemirror_mode": {
    "name": "ipython",
    "version": 3
   },
   "file_extension": ".py",
   "mimetype": "text/x-python",
   "name": "python",
   "nbconvert_exporter": "python",
   "pygments_lexer": "ipython3",
   "version": "3.9.1"
  },
  "orig_nbformat": 4
 },
 "nbformat": 4,
 "nbformat_minor": 2
}
